{
 "cells": [
  {
   "cell_type": "markdown",
   "metadata": {},
   "source": [
    "### Package Installation and Imports\n",
    "\n",
    "- For this part you will need some Python packages we will often use, this section will run you through the installation\n",
    "\n",
    "- I recommend you set up a local virtual environment by referring to the following resource: https://realpython.com/python-virtual-environments-a-primer/#create-it\n",
    "\n",
    "- After installing <u>and</u> activating the venv, select the venv kernel and run the subsequent package install cells to complete the installation"
   ]
  },
  {
   "cell_type": "code",
   "execution_count": null,
   "metadata": {
    "vscode": {
     "languageId": "shellscript"
    }
   },
   "outputs": [],
   "source": [
    "pip install ipykernel"
   ]
  },
  {
   "cell_type": "code",
   "execution_count": null,
   "metadata": {
    "vscode": {
     "languageId": "shellscript"
    }
   },
   "outputs": [],
   "source": [
    "pip install yfinance"
   ]
  },
  {
   "cell_type": "code",
   "execution_count": null,
   "metadata": {
    "vscode": {
     "languageId": "shellscript"
    }
   },
   "outputs": [],
   "source": [
    "pip install matplotlib"
   ]
  },
  {
   "cell_type": "code",
   "execution_count": null,
   "metadata": {},
   "outputs": [],
   "source": [
    "import yfinance as yf\n",
    "import numpy as np\n",
    "import pandas as pd\n",
    "import matplotlib.pyplot as plt\n"
   ]
  },
  {
   "cell_type": "code",
   "execution_count": null,
   "metadata": {},
   "outputs": [],
   "source": [
    "'''\n",
    "Created By: Shiv Patel \n",
    "Date: Sept 13, 2024\n",
    "'''\n",
    "\n",
    "data = yf.download(\"GME\", start=\"2022-09-10\", end=\"2023-09-10\")\n",
    "data.head()\n",
    "\n",
    "# Your Code Here\n",
    "\n",
    "# Function to plot the stock, taking in various arguments\n",
    "def plotStockMovingAverages(ticker, startDate, endDate, shortWindow,longWindow):\n",
    "\n",
    "  # Fetching the data using yfinance\n",
    "  data = yf.download(ticker, start=startDate, end=endDate)\n",
    "\n",
    "  # Calculate moving averages\n",
    "  data['50_MA'] = data['Close'].rolling(window=shortWindow,\n",
    "                                        min_periods=1).mean()\n",
    "  data['200_MA'] = data['Close'].rolling(window=longWindow,\n",
    "                                         min_periods=1).mean()\n",
    "\n",
    "# Plotting the data\n",
    "  plt.figure(figsize=(14, 7))\n",
    "\n",
    "  plt.plot(data.index, data['Close'], label='Closing Price', color='blue', alpha=0.7)\n",
    "    \n",
    "  plt.plot(data.index, data['50_MA'], label='50-Day Moving Average', color='red', linestyle='--', alpha=0.7)\n",
    "\n",
    "  plt.plot(data.index, data['200_MA'], label='200-Day Moving Average', color='green', linestyle='--', alpha=0.7)\n",
    "\n",
    "# Formating the plot\n",
    "  plt.title(f'{ticker} Closing Price and Moving Averages ({startDate} to {endDate})')\n",
    "    \n",
    "  plt.xlabel('Date')\n",
    "\n",
    "  plt.ylabel('Price (USD)')\n",
    "    \n",
    "  plt.legend()\n",
    "\n",
    "  plt.grid(True)\n",
    "    \n",
    "  plt.tight_layout()\n",
    "\n",
    "# Display the plot\n",
    "  plt.show()\n",
    "\n",
    "\n",
    "#Calling function using a sample stock of Tesla (Could change 'ticker' based off whatever stock data is needed, ex// \"TD\", \"GME\", NVDA, etc.)\n",
    "userStock = input(\"Please enter a stock name 'TD', 'GME', 'NVDA', etc. \")\n",
    "plotStockMovingAverages(userStock, \"2022-09-10\", \"2024-01-1\", 50, 200)\n",
    "\n"
   ]
  },
  {
   "cell_type": "code",
   "execution_count": null,
   "metadata": {},
   "outputs": [],
   "source": []
  }
 ],
 "metadata": {
  "kernelspec": {
   "display_name": "Python 3 (ipykernel)",
   "language": "python",
   "name": "python3"
  },
  "language_info": {
   "codemirror_mode": {
    "name": "ipython",
    "version": 3
   },
   "file_extension": ".py",
   "mimetype": "text/x-python",
   "name": "python",
   "nbconvert_exporter": "python",
   "pygments_lexer": "ipython3",
   "version": "3.11.5"
  }
 },
 "nbformat": 4,
 "nbformat_minor": 2
}
